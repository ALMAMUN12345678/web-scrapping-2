{
 "cells": [
  {
   "cell_type": "code",
   "execution_count": 1,
   "id": "cc734e38-b0d6-4c4e-a886-450cd54f2961",
   "metadata": {},
   "outputs": [],
   "source": [
    "import pandas as pd\n",
    "import numpy as np\n",
    "import seaborn as sns\n",
    "import missingno as msno\n",
    "from thefuzz import fuzz, process\n",
    "import itertools\n",
    "from itertools import combinations\n",
    "import matplotlib.pyplot as plt\n",
    "from datetime import datetime\n",
    "import matplotlib.font_manager as fm\n",
    "from collections import Counter\n",
    "from matplotlib import dates as mpl_dates\n",
    "from matplotlib.animation import FuncAnimation\n",
    "import random\n",
    "from mpl_toolkits.mplot3d import Axes3D\n",
    "from itertools import count\n",
    "from ipywidgets import interact\n",
    "import matplotlib.animation as animation\n",
    "from IPython.display import HTML, Image\n",
    "from IPython.display import HTML\n",
    "import csv\n",
    "import time\n",
    "from scipy import stats\n",
    "from statsmodels import robust\n",
    "from robustbase.stats import mad\n",
    "import requests\n",
    "from bs4 import BeautifulSoup\n",
    "from requests_html import HTMLSession"
   ]
  },
  {
   "cell_type": "code",
   "execution_count": 2,
   "id": "ad2103f7-b81b-4441-838b-51dd0b36b692",
   "metadata": {},
   "outputs": [],
   "source": [
    "url= 'https://www.amazon.com/s?i=stripbooks&rh=n%3A5&fs=true&_encoding=UTF8'\n",
    "page = '&pf_rd_p=dc5bf44b-97c5-4dcb-bdba-14972a9be974&pf_rd_r=T8TETSDJHAXSNKHY916J&qid=1719655601&ref=sr_pg_1'\n",
    "header = ({'User-Agent': 'Mozilla/5.0 (Windows NT 10.0; Win64; x64) AppleWebKit/537.36 (KHTML, like Gecko) Chrome/126.0.0.0 Safari/537.36', 'Accept-Language': 'en-US, en;q=0.5'})\n"
   ]
  },
  {
   "cell_type": "code",
   "execution_count": 3,
   "id": "d680b3cd-4c80-47a8-b519-7c4182d915e1",
   "metadata": {},
   "outputs": [],
   "source": [
    "web=requests.get(url+page,headers=header)"
   ]
  },
  {
   "cell_type": "code",
   "execution_count": 79,
   "id": "b2436147-6bc7-4a1d-b3ff-614dd155860e",
   "metadata": {},
   "outputs": [],
   "source": [
    "soup = BeautifulSoup(web.text, 'html.parser')\n",
    "div = soup.find_all('div',class_='puisg-col puisg-col-4-of-12 puisg-col-8-of-16 puisg-col-12-of-20 puisg-col-12-of-24 puis-list-col-right')"
   ]
  },
  {
   "cell_type": "code",
   "execution_count": 73,
   "id": "0d2b2a8d-f98b-4e0b-a4e4-b180d784c8d3",
   "metadata": {},
   "outputs": [],
   "source": [
    "div = soup.find('div',class_='puisg-col puisg-col-4-of-12 puisg-col-8-of-16 puisg-col-12-of-20 puisg-col-12-of-24 puis-list-col-right')"
   ]
  },
  {
   "cell_type": "code",
   "execution_count": 74,
   "id": "dcd71a1c-058d-4f23-ac35-6f22a8fe21f6",
   "metadata": {},
   "outputs": [
    {
     "data": {
      "text/plain": [
       "'5.0 out of 5 stars'"
      ]
     },
     "execution_count": 74,
     "metadata": {},
     "output_type": "execute_result"
    }
   ],
   "source": [
    "div.find('span',class_='a-icon-alt').get_text()"
   ]
  },
  {
   "cell_type": "code",
   "execution_count": 5,
   "id": "b003db80-9340-493e-b0e4-40b872d2f590",
   "metadata": {},
   "outputs": [],
   "source": [
    "book_name = soup.find_all('span',class_='a-size-medium a-color-base a-text-normal')"
   ]
  },
  {
   "cell_type": "code",
   "execution_count": 46,
   "id": "4d3f2b4d-0730-44f7-b8ff-a887a51cd026",
   "metadata": {},
   "outputs": [],
   "source": [
    "writer=soup.find('a',class_='a-size-base a-link-normal s-underline-text s-underline-link-text s-link-style')"
   ]
  },
  {
   "cell_type": "code",
   "execution_count": 47,
   "id": "60269ef9-b821-4705-aa0e-3551b80646a6",
   "metadata": {},
   "outputs": [
    {
     "data": {
      "text/plain": [
       "'Stephan Theron'"
      ]
     },
     "execution_count": 47,
     "metadata": {},
     "output_type": "execute_result"
    }
   ],
   "source": [
    "writer.get_text()"
   ]
  },
  {
   "cell_type": "code",
   "execution_count": 7,
   "id": "6752c18f-061b-431d-a1ff-e4a75e8eefcc",
   "metadata": {},
   "outputs": [],
   "source": [
    "prize = soup.find_all('span',class_='a-price-whole')"
   ]
  },
  {
   "cell_type": "code",
   "execution_count": 8,
   "id": "5e672bdc-9b24-4ee0-ae15-265867ddf054",
   "metadata": {},
   "outputs": [],
   "source": [
    "rating=soup.find_all('span',class_='a-icon-alt')"
   ]
  },
  {
   "cell_type": "code",
   "execution_count": 78,
   "id": "2b3a90ad-d9af-481b-b414-605c1202b143",
   "metadata": {},
   "outputs": [
    {
     "data": {
      "text/plain": [
       "'Available instantly'"
      ]
     },
     "execution_count": 78,
     "metadata": {},
     "output_type": "execute_result"
    }
   ],
   "source": [
    "availabe = soup.find('div',attrs={'data-cy':'delivery-recipe'}).get_text()\n",
    "availabe"
   ]
  },
  {
   "cell_type": "code",
   "execution_count": 13,
   "id": "e0f8c4b6-1072-4c1a-a872-5dbe0c5eec12",
   "metadata": {},
   "outputs": [],
   "source": [
    "date=soup.find_all('span',class_='a-size-base a-color-secondary a-text-normal')"
   ]
  },
  {
   "cell_type": "code",
   "execution_count": 66,
   "id": "77f746f2-d73b-446e-b62f-9ef7154b0fe7",
   "metadata": {},
   "outputs": [],
   "source": [
    "#[title.find('span',class_='a-size-medium a-color-base a-text-normal').get_text() for title in div]"
   ]
  },
  {
   "cell_type": "code",
   "execution_count": 65,
   "id": "8d3e8588-9660-48c2-8fbf-36de1ea72022",
   "metadata": {},
   "outputs": [],
   "source": [
    "#[title.find('a',class_='a-size-base a-link-normal s-underline-text s-underline-link-text s-link-style a-text-bold').text for title in div]"
   ]
  },
  {
   "cell_type": "code",
   "execution_count": 80,
   "id": "f06721cc-2626-473a-8e29-89dba22884ab",
   "metadata": {},
   "outputs": [],
   "source": [
    "def get_rating(div):\n",
    "    try:\n",
    "        rating = div.find('span',class_='a-icon-alt').get_text()\n",
    "    except AttributeError:\n",
    "        try:\n",
    "            rating = div.find('i',class_='a-icon a-icon-star-small a-star-small-5 aok-align-bottom').get_text()\n",
    "        except:\n",
    "            rating = ''\n",
    "    return rating\n",
    "\n",
    "def get_title(div):\n",
    "    try:\n",
    "        title = div.find('span',class_='a-size-medium a-color-base a-text-normal').get_text()\n",
    "    except AttributeError:\n",
    "            title = ''\n",
    "    return title\n",
    "\n",
    "def get_writter(div):\n",
    "    try:\n",
    "        writer = div.find('a',class_='a-size-base a-link-normal s-underline-text s-underline-link-text s-link-style a-text-bold').get_text()\n",
    "    except AttributeError:\n",
    "            writer = ''\n",
    "    return writer\n",
    "\n",
    "def get_availabe(div):\n",
    "    try:\n",
    "        availabe = div.find('div',attrs={'data-cy':'delivery-recipe'}).get_text()\n",
    "    except AttributeError:\n",
    "            availabe = ''\n",
    "    return availabe\n",
    "\n",
    "def get_date(div):\n",
    "    try:\n",
    "        date = div.find('span',class_='a-size-base a-color-secondary a-text-normal').get_text()\n",
    "    except AttributeError:\n",
    "            date = ''\n",
    "    return date"
   ]
  },
  {
   "cell_type": "code",
   "execution_count": 64,
   "id": "fe91c7a8-ab33-41d6-a708-d81f810410a0",
   "metadata": {},
   "outputs": [],
   "source": [
    "#[get_rating(title) for title in div]"
   ]
  },
  {
   "cell_type": "code",
   "execution_count": 81,
   "id": "88747d84-2611-4d97-94eb-de7463d2013d",
   "metadata": {},
   "outputs": [],
   "source": [
    "#url= 'https://www.amazon.com/s?i=stripbooks&rh=n%3A5&fs=true&_encoding=UTF8'\n",
    "#page = '&pf_rd_p=dc5bf44b-97c5-4dcb-bdba-14972a9be974&pf_rd_r=T8TETSDJHAXSNKHY916J&qid=1719655601&ref=sr_pg_1'\n",
    "#header = ({'User-Agent': 'Mozilla/5.0 (Windows NT 10.0; Win64; x64) AppleWebKit/537.36 (KHTML, like Gecko) Chrome/126.0.0.0 Safari/537.36', 'Accept-Language': 'en-US, en;q=0.5'})\n",
    "list = []\n",
    "for page in range(1,15):\n",
    "    url= 'https://www.amazon.com/s?i=stripbooks&rh=n%3A5&fs=true&_encoding=UTF8'\n",
    "    page = f'&pf_rd_p=dc5bf44b-97c5-4dcb-bdba-14972a9be974&pf_rd_r=T8TETSDJHAXSNKHY916J&qid=1719655601&ref=sr_pg{page}'\n",
    "    header = ({'User-Agent': 'Mozilla/5.0 (Windows NT 10.0; Win64; x64) AppleWebKit/537.36 (KHTML, like Gecko) Chrome/126.0.0.0 Safari/537.36', 'Accept-Language': 'en-US, en;q=0.5'})\n",
    "    web=requests.get(url+page,headers=header)\n",
    "    soup = BeautifulSoup(web.text, 'html.parser')\n",
    "    div = soup.find_all('div',class_='puisg-col puisg-col-4-of-12 puisg-col-8-of-16 puisg-col-12-of-20 puisg-col-12-of-24 puis-list-col-right')\n",
    "    for all in div:\n",
    "        book_name = get_title(all)\n",
    "        writer=get_writter(all)\n",
    "        rating=get_rating(all)\n",
    "        availabe = get_availabe(all)\n",
    "        date=get_date(all)\n",
    "        list.append({'Name':book_name, 'Writer':writer, 'Rating':rating, 'Avialabe':availabe, 'Date':date}) \n",
    "            "
   ]
  },
  {
   "cell_type": "code",
   "execution_count": 82,
   "id": "35f9a1ae-56ae-4564-9597-5f093aff349d",
   "metadata": {},
   "outputs": [
    {
     "data": {
      "text/html": [
       "<div>\n",
       "<style scoped>\n",
       "    .dataframe tbody tr th:only-of-type {\n",
       "        vertical-align: middle;\n",
       "    }\n",
       "\n",
       "    .dataframe tbody tr th {\n",
       "        vertical-align: top;\n",
       "    }\n",
       "\n",
       "    .dataframe thead th {\n",
       "        text-align: right;\n",
       "    }\n",
       "</style>\n",
       "<table border=\"1\" class=\"dataframe\">\n",
       "  <thead>\n",
       "    <tr style=\"text-align: right;\">\n",
       "      <th></th>\n",
       "      <th>Name</th>\n",
       "      <th>Writer</th>\n",
       "      <th>Rating</th>\n",
       "      <th>Avialabe</th>\n",
       "      <th>Date</th>\n",
       "    </tr>\n",
       "  </thead>\n",
       "  <tbody>\n",
       "    <tr>\n",
       "      <th>0</th>\n",
       "      <td>Midjourney Ultimate Prompting Guide: 2023 Edit...</td>\n",
       "      <td>Kindle Edition</td>\n",
       "      <td>5.0 out of 5 stars</td>\n",
       "      <td>Available instantly</td>\n",
       "      <td>Aug 8, 2023</td>\n",
       "    </tr>\n",
       "    <tr>\n",
       "      <th>1</th>\n",
       "      <td>Be A Citrix Hero: Rescue Your Users from Poor ...</td>\n",
       "      <td>Paperback</td>\n",
       "      <td>4.9 out of 5 stars</td>\n",
       "      <td>Delivery Fri, Jul 12 Ships to Bangladesh</td>\n",
       "      <td>Apr 6, 2020</td>\n",
       "    </tr>\n",
       "    <tr>\n",
       "      <th>2</th>\n",
       "      <td>Bloodborne Complete Guide 25th Anniversary Edi...</td>\n",
       "      <td>Hardcover</td>\n",
       "      <td></td>\n",
       "      <td>Delivery Thu, Oct 3 Ships to BangladeshThis ti...</td>\n",
       "      <td>Sep 30, 2024</td>\n",
       "    </tr>\n",
       "    <tr>\n",
       "      <th>3</th>\n",
       "      <td>The Official Stardew Valley Cookbook</td>\n",
       "      <td>Hardcover</td>\n",
       "      <td>4.9 out of 5 stars</td>\n",
       "      <td>Delivery Thu, Jul 11 Ships to Bangladesh</td>\n",
       "      <td>May 14, 2024</td>\n",
       "    </tr>\n",
       "    <tr>\n",
       "      <th>4</th>\n",
       "      <td>The Singularity Is Nearer: When We Merge with AI</td>\n",
       "      <td>Hardcover</td>\n",
       "      <td>4.5 out of 5 stars</td>\n",
       "      <td>Delivery Thu, Jul 11 Ships to Bangladesh</td>\n",
       "      <td>Jun 25, 2024</td>\n",
       "    </tr>\n",
       "    <tr>\n",
       "      <th>...</th>\n",
       "      <td>...</td>\n",
       "      <td>...</td>\n",
       "      <td>...</td>\n",
       "      <td>...</td>\n",
       "      <td>...</td>\n",
       "    </tr>\n",
       "    <tr>\n",
       "      <th>303</th>\n",
       "      <td>Elon Musk</td>\n",
       "      <td>Audible Audiobook</td>\n",
       "      <td>4.7 out of 5 stars</td>\n",
       "      <td>Available instantly</td>\n",
       "      <td></td>\n",
       "    </tr>\n",
       "    <tr>\n",
       "      <th>304</th>\n",
       "      <td>The Legend of Zelda™: Tears of the Kingdom – T...</td>\n",
       "      <td>Hardcover</td>\n",
       "      <td>4.8 out of 5 stars</td>\n",
       "      <td></td>\n",
       "      <td>Jul 7, 2023</td>\n",
       "    </tr>\n",
       "    <tr>\n",
       "      <th>305</th>\n",
       "      <td>CompTIA Security+ Certification Kit: Exam SY0-701</td>\n",
       "      <td>Paperback</td>\n",
       "      <td>4.6 out of 5 stars</td>\n",
       "      <td>Delivery Thu, Jul 11 Ships to Bangladesh</td>\n",
       "      <td>Jan 11, 2024</td>\n",
       "    </tr>\n",
       "    <tr>\n",
       "      <th>306</th>\n",
       "      <td>ISC2 CISSP Certified Information Systems Secur...</td>\n",
       "      <td>Paperback</td>\n",
       "      <td>4.4 out of 5 stars</td>\n",
       "      <td>Delivery Thu, Jul 11 Ships to Bangladesh</td>\n",
       "      <td>Jun 26, 2024</td>\n",
       "    </tr>\n",
       "    <tr>\n",
       "      <th>307</th>\n",
       "      <td>Advanced PLC Programming using studio 5000 Par...</td>\n",
       "      <td>Paperback</td>\n",
       "      <td>5.0 out of 5 stars</td>\n",
       "      <td>Delivery Fri, Jul 12 Ships to Bangladesh</td>\n",
       "      <td>Feb 16, 2023</td>\n",
       "    </tr>\n",
       "  </tbody>\n",
       "</table>\n",
       "<p>308 rows × 5 columns</p>\n",
       "</div>"
      ],
      "text/plain": [
       "                                                  Name             Writer  \\\n",
       "0    Midjourney Ultimate Prompting Guide: 2023 Edit...     Kindle Edition   \n",
       "1    Be A Citrix Hero: Rescue Your Users from Poor ...          Paperback   \n",
       "2    Bloodborne Complete Guide 25th Anniversary Edi...          Hardcover   \n",
       "3                 The Official Stardew Valley Cookbook          Hardcover   \n",
       "4     The Singularity Is Nearer: When We Merge with AI          Hardcover   \n",
       "..                                                 ...                ...   \n",
       "303                                          Elon Musk  Audible Audiobook   \n",
       "304  The Legend of Zelda™: Tears of the Kingdom – T...          Hardcover   \n",
       "305  CompTIA Security+ Certification Kit: Exam SY0-701          Paperback   \n",
       "306  ISC2 CISSP Certified Information Systems Secur...          Paperback   \n",
       "307  Advanced PLC Programming using studio 5000 Par...          Paperback   \n",
       "\n",
       "                 Rating                                           Avialabe  \\\n",
       "0    5.0 out of 5 stars                                Available instantly   \n",
       "1    4.9 out of 5 stars           Delivery Fri, Jul 12 Ships to Bangladesh   \n",
       "2                        Delivery Thu, Oct 3 Ships to BangladeshThis ti...   \n",
       "3    4.9 out of 5 stars           Delivery Thu, Jul 11 Ships to Bangladesh   \n",
       "4    4.5 out of 5 stars           Delivery Thu, Jul 11 Ships to Bangladesh   \n",
       "..                  ...                                                ...   \n",
       "303  4.7 out of 5 stars                                Available instantly   \n",
       "304  4.8 out of 5 stars                                                      \n",
       "305  4.6 out of 5 stars           Delivery Thu, Jul 11 Ships to Bangladesh   \n",
       "306  4.4 out of 5 stars           Delivery Thu, Jul 11 Ships to Bangladesh   \n",
       "307  5.0 out of 5 stars           Delivery Fri, Jul 12 Ships to Bangladesh   \n",
       "\n",
       "             Date  \n",
       "0     Aug 8, 2023  \n",
       "1     Apr 6, 2020  \n",
       "2    Sep 30, 2024  \n",
       "3    May 14, 2024  \n",
       "4    Jun 25, 2024  \n",
       "..            ...  \n",
       "303                \n",
       "304   Jul 7, 2023  \n",
       "305  Jan 11, 2024  \n",
       "306  Jun 26, 2024  \n",
       "307  Feb 16, 2023  \n",
       "\n",
       "[308 rows x 5 columns]"
      ]
     },
     "execution_count": 82,
     "metadata": {},
     "output_type": "execute_result"
    }
   ],
   "source": [
    "pd.DataFrame(list)"
   ]
  }
 ],
 "metadata": {
  "kernelspec": {
   "display_name": "Python 3 (ipykernel)",
   "language": "python",
   "name": "python3"
  },
  "language_info": {
   "codemirror_mode": {
    "name": "ipython",
    "version": 3
   },
   "file_extension": ".py",
   "mimetype": "text/x-python",
   "name": "python",
   "nbconvert_exporter": "python",
   "pygments_lexer": "ipython3",
   "version": "3.11.7"
  }
 },
 "nbformat": 4,
 "nbformat_minor": 5
}
